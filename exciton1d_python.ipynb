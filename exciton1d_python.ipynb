{
 "metadata": {
  "language_info": {
   "codemirror_mode": {
    "name": "ipython",
    "version": 3
   },
   "file_extension": ".py",
   "mimetype": "text/x-python",
   "name": "python",
   "nbconvert_exporter": "python",
   "pygments_lexer": "ipython3",
   "version": "3.7.3-final"
  },
  "orig_nbformat": 2,
  "kernelspec": {
   "name": "python37364bit44d877ff129d4acc92cd251ab06d8d8e",
   "display_name": "Python 3.7.3 64-bit",
   "language": "python"
  }
 },
 "nbformat": 4,
 "nbformat_minor": 2,
 "cells": [
  {
   "source": [
    "!*********************************************************************!\n",
    "\n",
    "!\n",
    "\n",
    "!   This program calculates the unpolarized absorption spectrum and \n",
    "\n",
    "!   band dispersion of a linear, 1D aggregate using the Frenkel/\n",
    "\n",
    "!   charge-transfer Holstein model. See the README file for more \n",
    "\n",
    "!   information.\n",
    "\n",
    "!                                                   Written By:\n",
    "\n",
    "!                                                   Nicholas Hestand\n",
    "\n",
    "!*********************************************************************!"
   ],
   "cell_type": "markdown",
   "metadata": {}
  },
  {
   "cell_type": "code",
   "execution_count": 3,
   "metadata": {},
   "outputs": [],
   "source": [
    "import sys\n",
    "import re\n",
    "from os import path\n",
    "import numpy as np\n",
    "import scipy.linalg.lapack as lapack\n",
    "import matplotlib.pyplot as plt\n",
    "import seaborn as sns\n",
    "import pandas as pd"
   ]
  },
  {
   "source": [
    "# Common Variable"
   ],
   "cell_type": "markdown",
   "metadata": {}
  },
  {
   "cell_type": "code",
   "execution_count": 2,
   "metadata": {},
   "outputs": [],
   "source": [
    "'''!*********************************************************************!\n",
    "!    Module containing variables and parameters used in exciton1D     !\n",
    "!    subroutines.\n",
    "!*********************************************************************!'''\n",
    "class load_commonvar():\n",
    "    #module commonvar\n",
    "    '''!=================================================================!\n",
    "    !   Simulation parameters, all in units of hw                     !\n",
    "    !=================================================================!'''\n",
    "            #Simulation Title  \n",
    "    task_title='task_title'\n",
    "\n",
    "    nmol = int(1)\n",
    "\n",
    "            #!Vibrational Parameters\n",
    "    vibmax    = int(0)      #!Max vibrations in basis set\n",
    "    hw        = 1400.0      #!vibration energy\n",
    "    lambda_n  = 1.0         #!Neutral lambda (harmonic shift)\n",
    "    lambda_c  = 0.0         #!Cation lambda (harmonic shift)\n",
    "    lambda_a  = 0.0         #!Anion lambda (harmonic shift)\n",
    "\n",
    "            #!Coupling and Energies\n",
    "    JCoul     = 0.0        #!Nearest neighbor Coulomb coupling\n",
    "    ES1       = 0.0        #!Monomer Transition Energy\n",
    "    te        = 0.0        #!Nearest neighbor electron transfer integral\n",
    "    th        = 0.0        #!Nearest neighbor hole transfer integral\n",
    "    ECT       = 0.0        #!Charge Transfer Energy\n",
    "    ECTInf    = 0.0        #!Charge Transfer Energy and Infinite Separation\n",
    "\n",
    "            #!multiparticle basis states\n",
    "    one_state    =True\n",
    "    two_state    =False\n",
    "    ct_state     =False\n",
    "\n",
    "            #!absorption linewidth\n",
    "    abs_lw   = 0.10\n",
    "\n",
    "            #!franck condon tables\n",
    "    fc_gf=np.empty([1,1])\n",
    "    fc_gc=np.empty([1,1])\n",
    "    fc_ga=np.empty([1,1])\n",
    "    fc_af=np.empty([1,1])\n",
    "    fc_cf=np.empty([1,1])\n",
    "\n",
    "    fc_gf[:]=np.nan\n",
    "    fc_gc[:]=np.nan\n",
    "    fc_ga[:]=np.nan\n",
    "    fc_af[:]=np.nan\n",
    "    fc_cf[:]=np.nan\n",
    "\n",
    "            #!constants\n",
    "    pi = 4.0*np.arctan(1.0)\n",
    "            #!cm-1 per electronvolt\n",
    "    ev = 8065.0\n",
    "            #!plancks constant times the speed of light in nm*hw \n",
    "    hc = 1.23984193e3 * ev \n",
    "            #!boltzman constant units of cm-1 k\n",
    "    kbman = 0.6956925 \n",
    "            #!reduced planks constant in wavenumber * s\n",
    "    hbar = 6.58211951440e-16 * ev \n",
    "\n",
    "            #!basis set counter\n",
    "    kount = int(0)\n",
    "\n",
    "            #!basis set indexes\n",
    "    nx_1p=np.empty([1])\n",
    "    nx_1p[:]=np.nan\n",
    "    nx_2p=np.empty([1,1,1])\n",
    "    nx_2p[:]=np.nan\n",
    "    nx_ct=np.empty([1,1,1])\n",
    "    nx_ct[:]=np.nan\n",
    "\n",
    "            #!the hamiltonian and eigenvalues\n",
    "    h=np.empty([1,1],dtype='complex')\n",
    "    eval=np.empty([1])\n",
    "    h[:]=np.nan\n",
    "    eval[:]=np.nan\n",
    "\n",
    "            #!empty parameter\n",
    "    empty = -1  \n",
    "            #!parameters for complex numbers\n",
    "    complex_zero = complex( 0.0, 0.0 )\n",
    "    img = complex( 0.0, 1.0 )\n",
    "\n",
    "            #!bounds integer \n",
    "    nlbnd=None\n",
    "    nubnd=None\n",
    "\n",
    "            #!number of eigenstates to find for each k\n",
    "    esnum = 1    "
   ]
  },
  {
   "source": [
    "# read in parameters\n"
   ],
   "cell_type": "markdown",
   "metadata": {}
  },
  {
   "cell_type": "code",
   "execution_count": 3,
   "metadata": {},
   "outputs": [],
   "source": [
    "import read_in_para"
   ]
  },
  {
   "source": [
    "# number of particles\n"
   ],
   "cell_type": "markdown",
   "metadata": {}
  },
  {
   "cell_type": "code",
   "execution_count": 4,
   "metadata": {},
   "outputs": [],
   "source": [
    "import num_par"
   ]
  },
  {
   "source": [
    "# Frank Condon Table"
   ],
   "cell_type": "markdown",
   "metadata": {}
  },
  {
   "cell_type": "code",
   "execution_count": 5,
   "metadata": {},
   "outputs": [],
   "source": [
    "import FC_Table"
   ]
  },
  {
   "source": [
    "# Build Hamiltonian"
   ],
   "cell_type": "markdown",
   "metadata": {}
  },
  {
   "cell_type": "code",
   "execution_count": 6,
   "metadata": {},
   "outputs": [],
   "source": [
    "import Hamiltonian"
   ]
  },
  {
   "source": [
    "# Diagonalization"
   ],
   "cell_type": "markdown",
   "metadata": {}
  },
  {
   "cell_type": "code",
   "execution_count": 7,
   "metadata": {},
   "outputs": [],
   "source": [
    "import Diag"
   ]
  },
  {
   "source": [
    "# Absorption"
   ],
   "cell_type": "markdown",
   "metadata": {}
  },
  {
   "cell_type": "code",
   "execution_count": 8,
   "metadata": {},
   "outputs": [],
   "source": [
    "import ABS"
   ]
  },
  {
   "source": [
    "# Dispersion"
   ],
   "cell_type": "markdown",
   "metadata": {}
  },
  {
   "cell_type": "code",
   "execution_count": 9,
   "metadata": {},
   "outputs": [],
   "source": [
    "import Disp"
   ]
  },
  {
   "cell_type": "code",
   "execution_count": 10,
   "metadata": {},
   "outputs": [
    {
     "output_type": "stream",
     "name": "stdout",
     "text": [
      "Reading the input file...\n**********************************\n**********************************\nCalculating derived parameters in units of hw.\n**********************************\n**********************************\n Will now build the Hamiltonian, the diminsion of each k-block is: 230\n********************************************************************\nbuild h1p\nbuild h2p\nBuild h1p2p\nStart with hct\nstart with h1pct\nbuild h2pct\n"
     ]
    }
   ],
   "source": [
    "#def exciton_main():\n",
    "#read the user input file and set simulation parameters\n",
    "parameters=load_commonvar()\n",
    "parameters=read_in_para.read_in_para(parameters)\n",
    "#index the multiparticle basis set\n",
    "parameters.kount = 0\n",
    "if (parameters.one_state):\n",
    "    parameters=num_par.index_1p(parameters)\n",
    "if (parameters.two_state):\n",
    "    parameters=num_par.index_2p(parameters)\n",
    "if (parameters.ct_state):\n",
    "    parameters=num_par.index_ct(parameters)\n",
    "#make sure the number of requested eigenstates is less than the\n",
    "#total number of eigenstates possible\n",
    "parameters.esnum = min(parameters.esnum,parameters.kount)\n",
    "\n",
    "#build the franck-condon table for the vibrational overlap factors\n",
    "parameters=FC_Table.set_fctable(parameters)  \n",
    "\n",
    "#allocate space for the Hamiltonian matrix and eigenvalue array\n",
    "parameters.h=np.zeros([parameters.kount+1,parameters.kount+1],dtype=complex) # !the Hamiltonian!!!!!!!!!!!!!!!!!!!!!!!!!!\n",
    "parameters.eval=np.zeros([parameters.kount])    # !eigenvalues\n",
    "\n",
    "print(' Will now build the Hamiltonian, the diminsion of each k-block is:',parameters.kount)\n",
    "print('********************************************************************')\n",
    "\n",
    "#build each k-block of the Hamiltonian diagonalize, and calculate the observables\n",
    "for k in range(parameters.nlbnd,parameters.nubnd+1):\n",
    "    #!initialize hamiltonian to zero\n",
    "    parameters.h[:]=complex(0,0)\n",
    "    #build the hamiltonian\n",
    "    if ( parameters.one_state ):\n",
    "        parameters=Hamiltonian.build_h1p(k,parameters)\n",
    "    if ( parameters.two_state ):\n",
    "        parameters=Hamiltonian.build_h2p(k,parameters)\n",
    "    if ( parameters.one_state) and (parameters.two_state ):\n",
    "        parameters=Hamiltonian.build_h1p2p(k,parameters)\n",
    "    if ( parameters.ct_state ):\n",
    "        parameters=Hamiltonian.build_hct(k,parameters)\n",
    "    if ( parameters.one_state) and (parameters.ct_state ):\n",
    "        parameters=Hamiltonian.build_h1pct(k,parameters)\n",
    "    if (parameters.two_state) and (parameters.ct_state ):\n",
    "        parameters=Hamiltonian.build_h2pct(k,parameters)\n",
    "    #diagonalize the hamiltonian\n",
    "    if ( k == 0) or (parameters.esnum == parameters.kount ):\n",
    "        print(parameters.h.shape)\n",
    "        parameters.h,parameters.eval=Diag.diagonalize(parameters.h, parameters.kount, parameters.eval, 'A', parameters.kount)\n",
    "    else:\n",
    "        parameters.h,parameters.eval=Diag.diagonalize(parameters.h, parameters.kount, parameters.eval, 'I', parameters.esnum)\n",
    "    #calculate\n",
    "    # absorption spectrum\n",
    "    #(only k=0 absorbes assuming parallel dipoles)\n",
    "    if ( k == 0 ):\n",
    "        absorption(parameters)\n",
    "    dispersion(k,parameters)\n",
    "    \n",
    "    print('Done with wavevector k: ', k)"
   ]
  },
  {
   "cell_type": "code",
   "execution_count": null,
   "metadata": {},
   "outputs": [],
   "source": [
    "parameters.h"
   ]
  },
  {
   "source": [
    "# Parameter Out"
   ],
   "cell_type": "markdown",
   "metadata": {}
  },
  {
   "cell_type": "code",
   "execution_count": null,
   "metadata": {},
   "outputs": [],
   "source": [
    "'''!*********************************************************************!\n",
    "!        Write the simulation parameters to a file so that the        !\n",
    "!   simulation can be reproduced at a later time.                     !\n",
    "!*********************************************************************!'''\n",
    "def para_out(p):\n",
    "    #integer f_no\n",
    "    #character*100 f_name\n",
    "    f_name =task_title+'_para.csv'\n",
    "    with open(f_name) as para_wf:\n",
    "        write('parameter, values, all energies in cm-1')\n",
    "        write('task title, ',           trim(p.task_title))\n",
    "        write('nmol, ',                 p.nmol)\n",
    "        write('vibmax, ',               p.vibmax)\n",
    "        write('@@@@@@,@@@@@@')\n",
    "        write('basis state, on')\n",
    "        write('1p, ',                   p.one_state)\n",
    "        write('2p, ',                   p.two_state)\n",
    "        write('ct, ',                   p.ct_state)\n",
    "        write('total,',                 p.kount)\n",
    "        write('@@@@@@,@@@@@@')\n",
    "        write('vib energy,',            p.hw)\n",
    "        write('lambda,',                p.lambda_n)\n",
    "        write('lambda+,',               p.lambda_c)\n",
    "        write('lambda-',                p.lambda_a)\n",
    "        write('JCoul,',                 p.JCoul*p.hw)\n",
    "        write('ES1,',                   p.ES1*p.hw)\n",
    "        write('te,',                    p.te*p.hw)\n",
    "        write('th,',                    p.th*p.hw)\n",
    "        write('ECT,',                   p.ECT*p.hw)\n",
    "        write('@@@@@@@@,@@@@@@@@')\n",
    "        write('abs linewidth,',         p.abs_lw*p.hw)"
   ]
  },
  {
   "source": [
    "# Main Exciton"
   ],
   "cell_type": "markdown",
   "metadata": {}
  },
  {
   "cell_type": "code",
   "execution_count": null,
   "metadata": {
    "tags": [
     "outputPrepend"
    ]
   },
   "outputs": [],
   "source": [
    "para_out()\n",
    "print('********************************************************************')\n",
    "print('Program exited successfully.')"
   ]
  },
  {
   "cell_type": "code",
   "execution_count": null,
   "metadata": {},
   "outputs": [],
   "source": [
    "#program exciton_main\n",
    "    #integer k   !the k-index\n",
    "    \n",
    "    #!read the user input file and set simulation parameters \n",
    "   \n",
    "    #index the multiparticle basis set\n",
    "    \n",
    "    #make sure the number of requested eigenstates is less than the\n",
    "    #total number of eigenstates possible\n",
    "\n",
    "    #build the franck-condon table for the vibrational overlap factors\n",
    "    \n",
    "    #allocate space for the Hamiltonian matrix and eigenvalue array\n",
    "    #allocate ( h(kount,kount) ) !the Hamiltonian\n",
    "    #allocate ( eval(kount) )    !eigenvalues\n",
    "    \n",
    "    #build each k-block of the Hamiltonian diagonalize, and calculate the observables\n",
    "\n",
    "    #write the parameter file\n",
    "    \n"
   ]
  },
  {
   "cell_type": "code",
   "execution_count": null,
   "metadata": {},
   "outputs": [],
   "source": [
    "parameters.nx_2p.shape"
   ]
  },
  {
   "cell_type": "code",
   "execution_count": null,
   "metadata": {},
   "outputs": [],
   "source": [
    "nx_1p='     1           2           3           4           5'\n",
    "\n",
    "\n",
    "nx_2p='6          82         139         177          -1          10          85         141         178          -1          14          88         143         179          -1          18          91         145         180          -1          22          94         147         181          -1          26          97         149         182          -1          30         100         151         183          -1          34         103         153         184          -1          38         106         155         185          -1          -1          -1          -1          -1          -1          42         109         157         186          -1          46         112         159         187          -1          50         115         161         188          -1          54         118         163         189          -1          58         121         165         190          -1          62         124         167         191          -1          66         127         169         192          -1          70         130         171         193          -1          74         133         173         194          -1          78         136         175         195          -1           7          83         140          -1          -1          11          86         142          -1          -1          15          89         144          -1          -1          19          92         146          -1          -1          23          95         148          -1          -1          27          98         150          -1          -1          31         101         152          -1          -1          35         104         154          -1          -1          39         107         156          -1          -1          -1          -1          -1          -1          -1          43         110         158          -1          -1          47         113         160          -1          -1          51         116         162          -1          -1          55         119         164          -1          -1          59         122         166          -1          -1          63         125         168          -1          -1          67         128         170          -1          -1          71         131         172          -1          -1          75         134         174          -1          -1          79         137         176          -1          -1           8          84          -1          -1          -1          12          87          -1          -1          -1          16          90          -1          -1          -1          20          93          -1          -1          -1          24          96          -1          -1          -1          28          99          -1          -1          -1          32         102          -1          -1          -1          36         105          -1          -1          -1          40         108          -1          -1          -1          -1          -1          -1          -1          -1          44         111          -1          -1          -1          48         114          -1          -1          -1          52         117          -1          -1          -1          56         120          -1          -1          -1          60         123          -1          -1          -1          64         126          -1          -1          -1          68         129          -1          -1          -1          72         132          -1          -1          -1          76         135          -1          -1          -1          80         138          -1          -1          -1           9          -1          -1          -1          -1          13          -1          -1          -1          -1          17          -1          -1          -1          -1          21          -1          -1          -1          -1          25          -1          -1          -1          -1          29          -1          -1          -1          -1          33          -1          -1          -1          -1          37          -1          -1          -1          -1          41          -1          -1          -1          -1          -1          -1          -1          -1          -1          45          -1          -1          -1          -1          49          -1          -1          -1          -1          53          -1          -1          -1          -1          57          -1          -1          -1          -1          61          -1          -1          -1          -1          65          -1          -1          -1          -1          69          -1          -1          -1          -1          73          -1          -1          -1          -1          77          -1          -1          -1          -1          81          -1          -1          -1          -1'\n",
    "\n",
    "\n",
    "\n",
    "nx_ct='         196         291         367         424         462         201         295         370         426         463         206         299         373         428         464         211         303         376         430         465         216         307         379         432         466         221         311         382         434         467         226         315         385         436         468         231         319         388         438         469         236         323         391         440         470          -1          -1          -1          -1          -1         241         327         394         442         471         246         331         397         444         472         251         335         400         446         473         256         339         403         448         474         261         343         406         450         475         266         347         409         452         476         271         351         412         454         477         276         355         415         456         478         281         359         418         458         479         286         363         421         460         480         197         292         368         425          -1         202         296         371         427          -1         207         300         374         429          -1         212         304         377         431          -1         217         308         380         433          -1         222         312         383         435          -1         227         316         386         437          -1         232         320         389         439          -1         237         324         392         441          -1          -1          -1          -1          -1          -1         242         328         395         443          -1         247         332         398         445          -1         252         336         401         447          -1         257         340         404         449          -1         262         344         407         451          -1         267         348         410         453          -1         272         352         413         455          -1         277         356         416         457          -1         282         360         419         459          -1         287         364         422         461          -1         198         293         369          -1          -1         203         297         372          -1          -1         208         301         375          -1          -1         213         305         378          -1          -1         218         309         381          -1          -1         223         313         384          -1          -1         228         317         387          -1          -1         233         321         390          -1          -1         238         325         393          -1          -1          -1          -1          -1          -1          -1         243         329         396          -1          -1         248         333         399          -1          -1         253         337         402          -1          -1         258         341         405          -1          -1         263         345         408          -1          -1         268         349         411          -1          -1         273         353         414          -1          -1         278         357         417          -1          -1         283         361         420          -1          -1         288         365         423          -1          -1         199         294          -1          -1          -1         204         298          -1          -1          -1         209         302          -1          -1          -1         214         306          -1          -1          -1         219         310          -1          -1          -1         224         314          -1          -1          -1         229         318          -1          -1          -1         234         322          -1          -1          -1         239         326          -1          -1          -1          -1          -1          -1          -1          -1         244         330          -1          -1          -1         249         334          -1          -1          -1         254         338          -1          -1          -1         259         342          -1          -1          -1         264         346          -1          -1          -1         269         350          -1          -1          -1         274         354          -1          -1          -1         279         358          -1          -1          -1         284         362          -1          -1          -1         289         366          -1          -1          -1         200          -1          -1          -1          -1         205          -1          -1          -1          -1         210          -1          -1          -1          -1         215          -1          -1          -1          -1         220          -1          -1          -1          -1         225          -1          -1          -1          -1         230          -1          -1          -1          -1         235          -1          -1          -1          -1         240          -1          -1          -1          -1          -1          -1          -1          -1          -1         245          -1          -1          -1          -1         250          -1          -1          -1          -1         255          -1          -1          -1          -1         260          -1          -1          -1          -1         265          -1          -1          -1          -1         270          -1          -1          -1          -1         275          -1          -1          -1          -1         280          -1          -1          -1          -1         285          -1          -1          -1          -1         290          -1          -1          -1          -1'"
   ]
  },
  {
   "cell_type": "code",
   "execution_count": null,
   "metadata": {},
   "outputs": [],
   "source": [
    "print(np.asarray(nx_1p.split(),'int'))\n",
    "print(np.reshape(np.asarray(nx_2p.split(),'int'),(5,20,4))[0])\n",
    "print(np.reshape(np.asarray(nx_ct.split(),'int'),(5,20,5))[0])"
   ]
  },
  {
   "cell_type": "code",
   "execution_count": null,
   "metadata": {},
   "outputs": [],
   "source": [
    "  gf='0.60653065971263342       0.60653065971263342       0.42888194248035344       0.24761510494160160       0.12380755247080080      -0.60653065971263342        0.0000000000000000       0.42888194248035344       0.49523020988320327       0.37142265741240243       0.42888194248035344      -0.42888194248035344      -0.30326532985631671       0.17509031982842507       0.43772579957106278      -0.24761510494160160       0.49523020988320327      -0.17509031982842507      -0.40435377314175563       -5.0544221642719475E-002  0.12380755247080080      -0.37142265741240243       0.43772579957106278        5.0544221642719475E-002 -0.37908166232039564'\n",
    "\n",
    "  ga='  0.88249690258459546       0.44124845129229773       0.15600488604842289        4.5034731477476914E-002   1.1258682869369228E-002 -0.44124845129229773       0.66187267693844665       0.54601710116948010       0.24769102312612301        8.4440121520269223E-002  0.15600488604842289      -0.54601710116948010       0.46882647949806633       0.58115964330366532       0.32043391291743195       -4.5034731477476914E-002  0.24769102312612301      -0.58115964330366532       0.30106014124630726       0.57856405006685385        1.1258682869369228E-002  -8.4440121520269223E-002  0.32043391291743195      -0.57856405006685385       0.15641912872959382'\n",
    "gc='  0.88249690258459546       0.44124845129229773       0.15600488604842289        4.5034731477476914E-002   1.1258682869369228E-002 -0.44124845129229773       0.66187267693844665       0.54601710116948010       0.24769102312612301        8.4440121520269223E-002  0.15600488604842289      -0.54601710116948010       0.46882647949806633       0.58115964330366532       0.32043391291743195       -4.5034731477476914E-002  0.24769102312612301      -0.58115964330366532       0.30106014124630726       0.57856405006685385        1.1258682869369228E-002  -8.4440121520269223E-002  0.32043391291743195      -0.57856405006685385       0.15641912872959382'\n",
    "cf='0.88249690258459546 0.44124845129229773 0.15600488604842289 4.5034731477476914E-002 1.1258682869369228E-002 -0.44124845129229773 0.66187267693844665 0.54601710116948010 0.24769102312612301 8.4440121520269223E-002 0.15600488604842289 -0.54601710116948010 0.46882647949806633 0.58115964330366532 0.32043391291743195 -4.5034731477476914E-002 0.24769102312612301 -0.58115964330366532 0.30106014124630726 0.57856405006685385 1.1258682869369228E-002 -8.4440121520269223E-002 0.32043391291743195 -0.57856405006685385 0.15641912872959382'\n",
    "af='  0.88249690258459546       0.44124845129229773       0.15600488604842289        4.5034731477476914E-002   1.1258682869369228E-002 -0.44124845129229773       0.66187267693844665       0.54601710116948010       0.24769102312612301        8.4440121520269223E-002  0.15600488604842289      -0.54601710116948010       0.46882647949806633       0.58115964330366532       0.32043391291743195       -4.5034731477476914E-002  0.24769102312612301      -0.58115964330366532       0.30106014124630726       0.57856405006685385        1.1258682869369228E-002  -8.4440121520269223E-002  0.32043391291743195      -0.57856405006685385       0.15641912872959382'"
   ]
  },
  {
   "cell_type": "code",
   "execution_count": null,
   "metadata": {},
   "outputs": [],
   "source": [
    "print(np.reshape(np.asarray(gf.split(),'float'),(5,5))-parameters.fc_cf.transpose())\n",
    "print('\\n')"
   ]
  },
  {
   "cell_type": "code",
   "execution_count": 22,
   "metadata": {},
   "outputs": [
    {
     "output_type": "display_data",
     "data": {
      "text/plain": "<Figure size 432x288 with 1 Axes>",
      "image/svg+xml": "<?xml version=\"1.0\" encoding=\"utf-8\" standalone=\"no\"?>\n<!DOCTYPE svg PUBLIC \"-//W3C//DTD SVG 1.1//EN\"\n  \"http://www.w3.org/Graphics/SVG/1.1/DTD/svg11.dtd\">\n<!-- Created with matplotlib (https://matplotlib.org/) -->\n<svg height=\"250.410651pt\" version=\"1.1\" viewBox=\"0 0 378.465625 250.410651\" width=\"378.465625pt\" xmlns=\"http://www.w3.org/2000/svg\" xmlns:xlink=\"http://www.w3.org/1999/xlink\">\n <metadata>\n  <rdf:RDF xmlns:cc=\"http://creativecommons.org/ns#\" xmlns:dc=\"http://purl.org/dc/elements/1.1/\" xmlns:rdf=\"http://www.w3.org/1999/02/22-rdf-syntax-ns#\">\n   <cc:Work>\n    <dc:type rdf:resource=\"http://purl.org/dc/dcmitype/StillImage\"/>\n    <dc:date>2021-02-14T22:29:35.210891</dc:date>\n    <dc:format>image/svg+xml</dc:format>\n    <dc:creator>\n     <cc:Agent>\n      <dc:title>Matplotlib v3.3.1, https://matplotlib.org/</dc:title>\n     </cc:Agent>\n    </dc:creator>\n   </cc:Work>\n  </rdf:RDF>\n </metadata>\n <defs>\n  <style type=\"text/css\">*{stroke-linecap:butt;stroke-linejoin:round;}</style>\n </defs>\n <g id=\"figure_1\">\n  <g id=\"patch_1\">\n   <path d=\"M 0 250.410651 \nL 378.465625 250.410651 \nL 378.465625 0 \nL 0 0 \nz\n\" style=\"fill:none;\"/>\n  </g>\n  <g id=\"axes_1\">\n   <g id=\"patch_2\">\n    <path d=\"M 36.465625 226.532526 \nL 371.265625 226.532526 \nL 371.265625 9.092526 \nL 36.465625 9.092526 \nz\n\" style=\"fill:#ffffff;\"/>\n   </g>\n   <g id=\"matplotlib.axis_1\">\n    <g id=\"xtick_1\">\n     <g id=\"line2d_1\">\n      <defs>\n       <path d=\"M 0 0 \nL 0 3.5 \n\" id=\"m3112d34591\" style=\"stroke:#000000;stroke-width:0.8;\"/>\n      </defs>\n      <g>\n       <use style=\"stroke:#000000;stroke-width:0.8;\" x=\"75.712515\" xlink:href=\"#m3112d34591\" y=\"226.532526\"/>\n      </g>\n     </g>\n     <g id=\"text_1\">\n      <!-- −7.5 -->\n      <g transform=\"translate(63.571109 241.130964)scale(0.1 -0.1)\">\n       <defs>\n        <path d=\"M 10.59375 35.5 \nL 73.1875 35.5 \nL 73.1875 27.203125 \nL 10.59375 27.203125 \nz\n\" id=\"DejaVuSans-8722\"/>\n        <path d=\"M 8.203125 72.90625 \nL 55.078125 72.90625 \nL 55.078125 68.703125 \nL 28.609375 0 \nL 18.3125 0 \nL 43.21875 64.59375 \nL 8.203125 64.59375 \nz\n\" id=\"DejaVuSans-55\"/>\n        <path d=\"M 10.6875 12.40625 \nL 21 12.40625 \nL 21 0 \nL 10.6875 0 \nz\n\" id=\"DejaVuSans-46\"/>\n        <path d=\"M 10.796875 72.90625 \nL 49.515625 72.90625 \nL 49.515625 64.59375 \nL 19.828125 64.59375 \nL 19.828125 46.734375 \nQ 21.96875 47.46875 24.109375 47.828125 \nQ 26.265625 48.1875 28.421875 48.1875 \nQ 40.625 48.1875 47.75 41.5 \nQ 54.890625 34.8125 54.890625 23.390625 \nQ 54.890625 11.625 47.5625 5.09375 \nQ 40.234375 -1.421875 26.90625 -1.421875 \nQ 22.3125 -1.421875 17.546875 -0.640625 \nQ 12.796875 0.140625 7.71875 1.703125 \nL 7.71875 11.625 \nQ 12.109375 9.234375 16.796875 8.0625 \nQ 21.484375 6.890625 26.703125 6.890625 \nQ 35.15625 6.890625 40.078125 11.328125 \nQ 45.015625 15.765625 45.015625 23.390625 \nQ 45.015625 31 40.078125 35.4375 \nQ 35.15625 39.890625 26.703125 39.890625 \nQ 22.75 39.890625 18.8125 39.015625 \nQ 14.890625 38.140625 10.796875 36.28125 \nz\n\" id=\"DejaVuSans-53\"/>\n       </defs>\n       <use xlink:href=\"#DejaVuSans-8722\"/>\n       <use x=\"83.789062\" xlink:href=\"#DejaVuSans-55\"/>\n       <use x=\"147.412109\" xlink:href=\"#DejaVuSans-46\"/>\n       <use x=\"179.199219\" xlink:href=\"#DejaVuSans-53\"/>\n      </g>\n     </g>\n    </g>\n    <g id=\"xtick_2\">\n     <g id=\"line2d_2\">\n      <g>\n       <use style=\"stroke:#000000;stroke-width:0.8;\" x=\"115.760362\" xlink:href=\"#m3112d34591\" y=\"226.532526\"/>\n      </g>\n     </g>\n     <g id=\"text_2\">\n      <!-- −5.0 -->\n      <g transform=\"translate(103.618956 241.130964)scale(0.1 -0.1)\">\n       <defs>\n        <path d=\"M 31.78125 66.40625 \nQ 24.171875 66.40625 20.328125 58.90625 \nQ 16.5 51.421875 16.5 36.375 \nQ 16.5 21.390625 20.328125 13.890625 \nQ 24.171875 6.390625 31.78125 6.390625 \nQ 39.453125 6.390625 43.28125 13.890625 \nQ 47.125 21.390625 47.125 36.375 \nQ 47.125 51.421875 43.28125 58.90625 \nQ 39.453125 66.40625 31.78125 66.40625 \nz\nM 31.78125 74.21875 \nQ 44.046875 74.21875 50.515625 64.515625 \nQ 56.984375 54.828125 56.984375 36.375 \nQ 56.984375 17.96875 50.515625 8.265625 \nQ 44.046875 -1.421875 31.78125 -1.421875 \nQ 19.53125 -1.421875 13.0625 8.265625 \nQ 6.59375 17.96875 6.59375 36.375 \nQ 6.59375 54.828125 13.0625 64.515625 \nQ 19.53125 74.21875 31.78125 74.21875 \nz\n\" id=\"DejaVuSans-48\"/>\n       </defs>\n       <use xlink:href=\"#DejaVuSans-8722\"/>\n       <use x=\"83.789062\" xlink:href=\"#DejaVuSans-53\"/>\n       <use x=\"147.412109\" xlink:href=\"#DejaVuSans-46\"/>\n       <use x=\"179.199219\" xlink:href=\"#DejaVuSans-48\"/>\n      </g>\n     </g>\n    </g>\n    <g id=\"xtick_3\">\n     <g id=\"line2d_3\">\n      <g>\n       <use style=\"stroke:#000000;stroke-width:0.8;\" x=\"155.808209\" xlink:href=\"#m3112d34591\" y=\"226.532526\"/>\n      </g>\n     </g>\n     <g id=\"text_3\">\n      <!-- −2.5 -->\n      <g transform=\"translate(143.666802 241.130964)scale(0.1 -0.1)\">\n       <defs>\n        <path d=\"M 19.1875 8.296875 \nL 53.609375 8.296875 \nL 53.609375 0 \nL 7.328125 0 \nL 7.328125 8.296875 \nQ 12.9375 14.109375 22.625 23.890625 \nQ 32.328125 33.6875 34.8125 36.53125 \nQ 39.546875 41.84375 41.421875 45.53125 \nQ 43.3125 49.21875 43.3125 52.78125 \nQ 43.3125 58.59375 39.234375 62.25 \nQ 35.15625 65.921875 28.609375 65.921875 \nQ 23.96875 65.921875 18.8125 64.3125 \nQ 13.671875 62.703125 7.8125 59.421875 \nL 7.8125 69.390625 \nQ 13.765625 71.78125 18.9375 73 \nQ 24.125 74.21875 28.421875 74.21875 \nQ 39.75 74.21875 46.484375 68.546875 \nQ 53.21875 62.890625 53.21875 53.421875 \nQ 53.21875 48.921875 51.53125 44.890625 \nQ 49.859375 40.875 45.40625 35.40625 \nQ 44.1875 33.984375 37.640625 27.21875 \nQ 31.109375 20.453125 19.1875 8.296875 \nz\n\" id=\"DejaVuSans-50\"/>\n       </defs>\n       <use xlink:href=\"#DejaVuSans-8722\"/>\n       <use x=\"83.789062\" xlink:href=\"#DejaVuSans-50\"/>\n       <use x=\"147.412109\" xlink:href=\"#DejaVuSans-46\"/>\n       <use x=\"179.199219\" xlink:href=\"#DejaVuSans-53\"/>\n      </g>\n     </g>\n    </g>\n    <g id=\"xtick_4\">\n     <g id=\"line2d_4\">\n      <g>\n       <use style=\"stroke:#000000;stroke-width:0.8;\" x=\"195.856056\" xlink:href=\"#m3112d34591\" y=\"226.532526\"/>\n      </g>\n     </g>\n     <g id=\"text_4\">\n      <!-- 0.0 -->\n      <g transform=\"translate(187.904493 241.130964)scale(0.1 -0.1)\">\n       <use xlink:href=\"#DejaVuSans-48\"/>\n       <use x=\"63.623047\" xlink:href=\"#DejaVuSans-46\"/>\n       <use x=\"95.410156\" xlink:href=\"#DejaVuSans-48\"/>\n      </g>\n     </g>\n    </g>\n    <g id=\"xtick_5\">\n     <g id=\"line2d_5\">\n      <g>\n       <use style=\"stroke:#000000;stroke-width:0.8;\" x=\"235.903903\" xlink:href=\"#m3112d34591\" y=\"226.532526\"/>\n      </g>\n     </g>\n     <g id=\"text_5\">\n      <!-- 2.5 -->\n      <g transform=\"translate(227.95234 241.130964)scale(0.1 -0.1)\">\n       <use xlink:href=\"#DejaVuSans-50\"/>\n       <use x=\"63.623047\" xlink:href=\"#DejaVuSans-46\"/>\n       <use x=\"95.410156\" xlink:href=\"#DejaVuSans-53\"/>\n      </g>\n     </g>\n    </g>\n    <g id=\"xtick_6\">\n     <g id=\"line2d_6\">\n      <g>\n       <use style=\"stroke:#000000;stroke-width:0.8;\" x=\"275.951749\" xlink:href=\"#m3112d34591\" y=\"226.532526\"/>\n      </g>\n     </g>\n     <g id=\"text_6\">\n      <!-- 5.0 -->\n      <g transform=\"translate(268.000187 241.130964)scale(0.1 -0.1)\">\n       <use xlink:href=\"#DejaVuSans-53\"/>\n       <use x=\"63.623047\" xlink:href=\"#DejaVuSans-46\"/>\n       <use x=\"95.410156\" xlink:href=\"#DejaVuSans-48\"/>\n      </g>\n     </g>\n    </g>\n    <g id=\"xtick_7\">\n     <g id=\"line2d_7\">\n      <g>\n       <use style=\"stroke:#000000;stroke-width:0.8;\" x=\"315.999596\" xlink:href=\"#m3112d34591\" y=\"226.532526\"/>\n      </g>\n     </g>\n     <g id=\"text_7\">\n      <!-- 7.5 -->\n      <g transform=\"translate(308.048034 241.130964)scale(0.1 -0.1)\">\n       <use xlink:href=\"#DejaVuSans-55\"/>\n       <use x=\"63.623047\" xlink:href=\"#DejaVuSans-46\"/>\n       <use x=\"95.410156\" xlink:href=\"#DejaVuSans-53\"/>\n      </g>\n     </g>\n    </g>\n    <g id=\"xtick_8\">\n     <g id=\"line2d_8\">\n      <g>\n       <use style=\"stroke:#000000;stroke-width:0.8;\" x=\"356.047443\" xlink:href=\"#m3112d34591\" y=\"226.532526\"/>\n      </g>\n     </g>\n     <g id=\"text_8\">\n      <!-- 10.0 -->\n      <g transform=\"translate(344.914631 241.130964)scale(0.1 -0.1)\">\n       <defs>\n        <path d=\"M 12.40625 8.296875 \nL 28.515625 8.296875 \nL 28.515625 63.921875 \nL 10.984375 60.40625 \nL 10.984375 69.390625 \nL 28.421875 72.90625 \nL 38.28125 72.90625 \nL 38.28125 8.296875 \nL 54.390625 8.296875 \nL 54.390625 0 \nL 12.40625 0 \nz\n\" id=\"DejaVuSans-49\"/>\n       </defs>\n       <use xlink:href=\"#DejaVuSans-49\"/>\n       <use x=\"63.623047\" xlink:href=\"#DejaVuSans-48\"/>\n       <use x=\"127.246094\" xlink:href=\"#DejaVuSans-46\"/>\n       <use x=\"159.033203\" xlink:href=\"#DejaVuSans-48\"/>\n      </g>\n     </g>\n    </g>\n   </g>\n   <g id=\"matplotlib.axis_2\">\n    <g id=\"ytick_1\">\n     <g id=\"line2d_9\">\n      <defs>\n       <path d=\"M 0 0 \nL -3.5 0 \n\" id=\"m361a54d8b7\" style=\"stroke:#000000;stroke-width:0.8;\"/>\n      </defs>\n      <g>\n       <use style=\"stroke:#000000;stroke-width:0.8;\" x=\"36.465625\" xlink:href=\"#m361a54d8b7\" y=\"209.100489\"/>\n      </g>\n     </g>\n     <g id=\"text_9\">\n      <!-- 8.90 -->\n      <g transform=\"translate(7.2 212.899707)scale(0.1 -0.1)\">\n       <defs>\n        <path d=\"M 31.78125 34.625 \nQ 24.75 34.625 20.71875 30.859375 \nQ 16.703125 27.09375 16.703125 20.515625 \nQ 16.703125 13.921875 20.71875 10.15625 \nQ 24.75 6.390625 31.78125 6.390625 \nQ 38.8125 6.390625 42.859375 10.171875 \nQ 46.921875 13.96875 46.921875 20.515625 \nQ 46.921875 27.09375 42.890625 30.859375 \nQ 38.875 34.625 31.78125 34.625 \nz\nM 21.921875 38.8125 \nQ 15.578125 40.375 12.03125 44.71875 \nQ 8.5 49.078125 8.5 55.328125 \nQ 8.5 64.0625 14.71875 69.140625 \nQ 20.953125 74.21875 31.78125 74.21875 \nQ 42.671875 74.21875 48.875 69.140625 \nQ 55.078125 64.0625 55.078125 55.328125 \nQ 55.078125 49.078125 51.53125 44.71875 \nQ 48 40.375 41.703125 38.8125 \nQ 48.828125 37.15625 52.796875 32.3125 \nQ 56.78125 27.484375 56.78125 20.515625 \nQ 56.78125 9.90625 50.3125 4.234375 \nQ 43.84375 -1.421875 31.78125 -1.421875 \nQ 19.734375 -1.421875 13.25 4.234375 \nQ 6.78125 9.90625 6.78125 20.515625 \nQ 6.78125 27.484375 10.78125 32.3125 \nQ 14.796875 37.15625 21.921875 38.8125 \nz\nM 18.3125 54.390625 \nQ 18.3125 48.734375 21.84375 45.5625 \nQ 25.390625 42.390625 31.78125 42.390625 \nQ 38.140625 42.390625 41.71875 45.5625 \nQ 45.3125 48.734375 45.3125 54.390625 \nQ 45.3125 60.0625 41.71875 63.234375 \nQ 38.140625 66.40625 31.78125 66.40625 \nQ 25.390625 66.40625 21.84375 63.234375 \nQ 18.3125 60.0625 18.3125 54.390625 \nz\n\" id=\"DejaVuSans-56\"/>\n        <path d=\"M 10.984375 1.515625 \nL 10.984375 10.5 \nQ 14.703125 8.734375 18.5 7.8125 \nQ 22.3125 6.890625 25.984375 6.890625 \nQ 35.75 6.890625 40.890625 13.453125 \nQ 46.046875 20.015625 46.78125 33.40625 \nQ 43.953125 29.203125 39.59375 26.953125 \nQ 35.25 24.703125 29.984375 24.703125 \nQ 19.046875 24.703125 12.671875 31.3125 \nQ 6.296875 37.9375 6.296875 49.421875 \nQ 6.296875 60.640625 12.9375 67.421875 \nQ 19.578125 74.21875 30.609375 74.21875 \nQ 43.265625 74.21875 49.921875 64.515625 \nQ 56.59375 54.828125 56.59375 36.375 \nQ 56.59375 19.140625 48.40625 8.859375 \nQ 40.234375 -1.421875 26.421875 -1.421875 \nQ 22.703125 -1.421875 18.890625 -0.6875 \nQ 15.09375 0.046875 10.984375 1.515625 \nz\nM 30.609375 32.421875 \nQ 37.25 32.421875 41.125 36.953125 \nQ 45.015625 41.5 45.015625 49.421875 \nQ 45.015625 57.28125 41.125 61.84375 \nQ 37.25 66.40625 30.609375 66.40625 \nQ 23.96875 66.40625 20.09375 61.84375 \nQ 16.21875 57.28125 16.21875 49.421875 \nQ 16.21875 41.5 20.09375 36.953125 \nQ 23.96875 32.421875 30.609375 32.421875 \nz\n\" id=\"DejaVuSans-57\"/>\n       </defs>\n       <use xlink:href=\"#DejaVuSans-56\"/>\n       <use x=\"63.623047\" xlink:href=\"#DejaVuSans-46\"/>\n       <use x=\"95.410156\" xlink:href=\"#DejaVuSans-57\"/>\n       <use x=\"159.033203\" xlink:href=\"#DejaVuSans-48\"/>\n      </g>\n     </g>\n    </g>\n    <g id=\"ytick_2\">\n     <g id=\"line2d_10\">\n      <g>\n       <use style=\"stroke:#000000;stroke-width:0.8;\" x=\"36.465625\" xlink:href=\"#m361a54d8b7\" y=\"184.33783\"/>\n      </g>\n     </g>\n     <g id=\"text_10\">\n      <!-- 8.95 -->\n      <g transform=\"translate(7.2 188.137049)scale(0.1 -0.1)\">\n       <use xlink:href=\"#DejaVuSans-56\"/>\n       <use x=\"63.623047\" xlink:href=\"#DejaVuSans-46\"/>\n       <use x=\"95.410156\" xlink:href=\"#DejaVuSans-57\"/>\n       <use x=\"159.033203\" xlink:href=\"#DejaVuSans-53\"/>\n      </g>\n     </g>\n    </g>\n    <g id=\"ytick_3\">\n     <g id=\"line2d_11\">\n      <g>\n       <use style=\"stroke:#000000;stroke-width:0.8;\" x=\"36.465625\" xlink:href=\"#m361a54d8b7\" y=\"159.575171\"/>\n      </g>\n     </g>\n     <g id=\"text_11\">\n      <!-- 9.00 -->\n      <g transform=\"translate(7.2 163.37439)scale(0.1 -0.1)\">\n       <use xlink:href=\"#DejaVuSans-57\"/>\n       <use x=\"63.623047\" xlink:href=\"#DejaVuSans-46\"/>\n       <use x=\"95.410156\" xlink:href=\"#DejaVuSans-48\"/>\n       <use x=\"159.033203\" xlink:href=\"#DejaVuSans-48\"/>\n      </g>\n     </g>\n    </g>\n    <g id=\"ytick_4\">\n     <g id=\"line2d_12\">\n      <g>\n       <use style=\"stroke:#000000;stroke-width:0.8;\" x=\"36.465625\" xlink:href=\"#m361a54d8b7\" y=\"134.812512\"/>\n      </g>\n     </g>\n     <g id=\"text_12\">\n      <!-- 9.05 -->\n      <g transform=\"translate(7.2 138.611731)scale(0.1 -0.1)\">\n       <use xlink:href=\"#DejaVuSans-57\"/>\n       <use x=\"63.623047\" xlink:href=\"#DejaVuSans-46\"/>\n       <use x=\"95.410156\" xlink:href=\"#DejaVuSans-48\"/>\n       <use x=\"159.033203\" xlink:href=\"#DejaVuSans-53\"/>\n      </g>\n     </g>\n    </g>\n    <g id=\"ytick_5\">\n     <g id=\"line2d_13\">\n      <g>\n       <use style=\"stroke:#000000;stroke-width:0.8;\" x=\"36.465625\" xlink:href=\"#m361a54d8b7\" y=\"110.049854\"/>\n      </g>\n     </g>\n     <g id=\"text_13\">\n      <!-- 9.10 -->\n      <g transform=\"translate(7.2 113.849072)scale(0.1 -0.1)\">\n       <use xlink:href=\"#DejaVuSans-57\"/>\n       <use x=\"63.623047\" xlink:href=\"#DejaVuSans-46\"/>\n       <use x=\"95.410156\" xlink:href=\"#DejaVuSans-49\"/>\n       <use x=\"159.033203\" xlink:href=\"#DejaVuSans-48\"/>\n      </g>\n     </g>\n    </g>\n    <g id=\"ytick_6\">\n     <g id=\"line2d_14\">\n      <g>\n       <use style=\"stroke:#000000;stroke-width:0.8;\" x=\"36.465625\" xlink:href=\"#m361a54d8b7\" y=\"85.287195\"/>\n      </g>\n     </g>\n     <g id=\"text_14\">\n      <!-- 9.15 -->\n      <g transform=\"translate(7.2 89.086414)scale(0.1 -0.1)\">\n       <use xlink:href=\"#DejaVuSans-57\"/>\n       <use x=\"63.623047\" xlink:href=\"#DejaVuSans-46\"/>\n       <use x=\"95.410156\" xlink:href=\"#DejaVuSans-49\"/>\n       <use x=\"159.033203\" xlink:href=\"#DejaVuSans-53\"/>\n      </g>\n     </g>\n    </g>\n    <g id=\"ytick_7\">\n     <g id=\"line2d_15\">\n      <g>\n       <use style=\"stroke:#000000;stroke-width:0.8;\" x=\"36.465625\" xlink:href=\"#m361a54d8b7\" y=\"60.524536\"/>\n      </g>\n     </g>\n     <g id=\"text_15\">\n      <!-- 9.20 -->\n      <g transform=\"translate(7.2 64.323755)scale(0.1 -0.1)\">\n       <use xlink:href=\"#DejaVuSans-57\"/>\n       <use x=\"63.623047\" xlink:href=\"#DejaVuSans-46\"/>\n       <use x=\"95.410156\" xlink:href=\"#DejaVuSans-50\"/>\n       <use x=\"159.033203\" xlink:href=\"#DejaVuSans-48\"/>\n      </g>\n     </g>\n    </g>\n    <g id=\"ytick_8\">\n     <g id=\"line2d_16\">\n      <g>\n       <use style=\"stroke:#000000;stroke-width:0.8;\" x=\"36.465625\" xlink:href=\"#m361a54d8b7\" y=\"35.761877\"/>\n      </g>\n     </g>\n     <g id=\"text_16\">\n      <!-- 9.25 -->\n      <g transform=\"translate(7.2 39.561096)scale(0.1 -0.1)\">\n       <use xlink:href=\"#DejaVuSans-57\"/>\n       <use x=\"63.623047\" xlink:href=\"#DejaVuSans-46\"/>\n       <use x=\"95.410156\" xlink:href=\"#DejaVuSans-50\"/>\n       <use x=\"159.033203\" xlink:href=\"#DejaVuSans-53\"/>\n      </g>\n     </g>\n    </g>\n    <g id=\"ytick_9\">\n     <g id=\"line2d_17\">\n      <g>\n       <use style=\"stroke:#000000;stroke-width:0.8;\" x=\"36.465625\" xlink:href=\"#m361a54d8b7\" y=\"10.999219\"/>\n      </g>\n     </g>\n     <g id=\"text_17\">\n      <!-- 9.30 -->\n      <g transform=\"translate(7.2 14.798437)scale(0.1 -0.1)\">\n       <defs>\n        <path d=\"M 40.578125 39.3125 \nQ 47.65625 37.796875 51.625 33 \nQ 55.609375 28.21875 55.609375 21.1875 \nQ 55.609375 10.40625 48.1875 4.484375 \nQ 40.765625 -1.421875 27.09375 -1.421875 \nQ 22.515625 -1.421875 17.65625 -0.515625 \nQ 12.796875 0.390625 7.625 2.203125 \nL 7.625 11.71875 \nQ 11.71875 9.328125 16.59375 8.109375 \nQ 21.484375 6.890625 26.8125 6.890625 \nQ 36.078125 6.890625 40.9375 10.546875 \nQ 45.796875 14.203125 45.796875 21.1875 \nQ 45.796875 27.640625 41.28125 31.265625 \nQ 36.765625 34.90625 28.71875 34.90625 \nL 20.21875 34.90625 \nL 20.21875 43.015625 \nL 29.109375 43.015625 \nQ 36.375 43.015625 40.234375 45.921875 \nQ 44.09375 48.828125 44.09375 54.296875 \nQ 44.09375 59.90625 40.109375 62.90625 \nQ 36.140625 65.921875 28.71875 65.921875 \nQ 24.65625 65.921875 20.015625 65.03125 \nQ 15.375 64.15625 9.8125 62.3125 \nL 9.8125 71.09375 \nQ 15.4375 72.65625 20.34375 73.4375 \nQ 25.25 74.21875 29.59375 74.21875 \nQ 40.828125 74.21875 47.359375 69.109375 \nQ 53.90625 64.015625 53.90625 55.328125 \nQ 53.90625 49.265625 50.4375 45.09375 \nQ 46.96875 40.921875 40.578125 39.3125 \nz\n\" id=\"DejaVuSans-51\"/>\n       </defs>\n       <use xlink:href=\"#DejaVuSans-57\"/>\n       <use x=\"63.623047\" xlink:href=\"#DejaVuSans-46\"/>\n       <use x=\"95.410156\" xlink:href=\"#DejaVuSans-51\"/>\n       <use x=\"159.033203\" xlink:href=\"#DejaVuSans-48\"/>\n      </g>\n     </g>\n    </g>\n   </g>\n   <g id=\"line2d_18\">\n    <path clip-path=\"url(#p4179b870ac)\" d=\"M 51.683807 57.621164 \nL 67.702946 73.581044 \nL 83.722084 95.343707 \nL 99.741223 119.662668 \nL 115.760362 144.322711 \nL 131.779501 167.548995 \nL 147.798639 187.716249 \nL 163.817778 203.350995 \nL 179.836917 213.256307 \nL 195.856056 216.64889 \nL 211.875194 213.256307 \nL 227.894333 203.350995 \nL 243.913472 187.716249 \nL 259.932611 167.548995 \nL 275.951749 144.322711 \nL 291.970888 119.662668 \nL 307.990027 95.343707 \nL 324.009166 73.581044 \nL 340.028304 57.621164 \nL 356.047443 51.57333 \n\" style=\"fill:none;stroke:#1f77b4;stroke-linecap:square;stroke-width:1.5;\"/>\n   </g>\n   <g id=\"line2d_19\">\n    <path clip-path=\"url(#p4179b870ac)\" d=\"M 51.683807 33.910572 \nL 67.702946 25.140133 \nL 83.722084 18.976163 \nL 99.741223 20.078992 \nL 115.760362 28.209019 \nL 131.779501 40.523192 \nL 147.798639 53.810141 \nL 163.817778 65.340527 \nL 179.836917 73.089406 \nL 195.856056 75.812358 \nL 211.875194 73.089406 \nL 227.894333 65.340527 \nL 243.913472 53.810141 \nL 259.932611 40.523192 \nL 275.951749 28.209019 \nL 291.970888 20.078992 \nL 307.990027 18.976163 \nL 324.009166 25.140133 \nL 340.028304 33.910572 \nL 356.047443 38.008494 \n\" style=\"fill:none;stroke:#ff7f0e;stroke-linecap:square;stroke-width:1.5;\"/>\n   </g>\n   <g id=\"patch_3\">\n    <path d=\"M 36.465625 226.532526 \nL 36.465625 9.092526 \n\" style=\"fill:none;stroke:#000000;stroke-linecap:square;stroke-linejoin:miter;stroke-width:0.8;\"/>\n   </g>\n   <g id=\"patch_4\">\n    <path d=\"M 371.265625 226.532526 \nL 371.265625 9.092526 \n\" style=\"fill:none;stroke:#000000;stroke-linecap:square;stroke-linejoin:miter;stroke-width:0.8;\"/>\n   </g>\n   <g id=\"patch_5\">\n    <path d=\"M 36.465625 226.532526 \nL 371.265625 226.532526 \n\" style=\"fill:none;stroke:#000000;stroke-linecap:square;stroke-linejoin:miter;stroke-width:0.8;\"/>\n   </g>\n   <g id=\"patch_6\">\n    <path d=\"M 36.465625 9.092526 \nL 371.265625 9.092526 \n\" style=\"fill:none;stroke:#000000;stroke-linecap:square;stroke-linejoin:miter;stroke-width:0.8;\"/>\n   </g>\n  </g>\n </g>\n <defs>\n  <clipPath id=\"p4179b870ac\">\n   <rect height=\"217.44\" width=\"334.8\" x=\"36.465625\" y=\"9.092526\"/>\n  </clipPath>\n </defs>\n</svg>\n",
      "image/png": "[encoded data removed]"
     },
     "metadata": {
      "needs_background": "light"
     }
    }
   ],
   "source": [
    "gccdisp=pd.read_csv('/Users/livi/Git/exciton1d-1/example_disp.csv')\n",
    "pydisp=pd.read_csv('/Users/livi/Git/exciton1d-1/exampleplus_disp.csv')\n",
    "plt.plot(gccdisp[' k'],gccdisp['energy'])\n",
    "plt.plot(pydisp['k'],pydisp['energy'])\n",
    "plt.show()"
   ]
  },
  {
   "cell_type": "code",
   "execution_count": null,
   "metadata": {},
   "outputs": [],
   "source": []
  }
 ]
}